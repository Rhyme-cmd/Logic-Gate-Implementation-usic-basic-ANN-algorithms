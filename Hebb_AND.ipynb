{
 "cells": [
  {
   "cell_type": "code",
   "execution_count": 2,
   "metadata": {},
   "outputs": [],
   "source": [
    "import numpy as np \n",
    "import matplotlib.pyplot as plt"
   ]
  },
  {
   "cell_type": "code",
   "execution_count": 2,
   "metadata": {},
   "outputs": [],
   "source": [
    "#initial weight \n",
    "Wi = 0\n",
    "\n",
    "#input table\n",
    "x1 = [-1,-1,1,1]\n",
    "x2 = [-1,1,-1,1]\n",
    "\n",
    "#target output \n",
    "y = [-1,-1,-1,1]\n",
    "\n",
    "#bias \n",
    "b = [1,1,1,1]\n",
    "\n",
    "#initialising input table with bias\n",
    "X = [ [ 0 for i in range(3) ] for j in range(4) ]\n",
    "\n",
    "#weight matrix\n",
    "W = [ [ 0 for i in range(3) ] for j in range(4) ]\n",
    "#print(X)"
   ]
  },
  {
   "cell_type": "code",
   "execution_count": 3,
   "metadata": {},
   "outputs": [
    {
     "name": "stdout",
     "output_type": "stream",
     "text": [
      "x1, x2, bias\n",
      "[[-1 -1  1]\n",
      " [-1  1  1]\n",
      " [ 1 -1  1]\n",
      " [ 1  1  1]]\n"
     ]
    }
   ],
   "source": [
    "#entering values in the input table \n",
    "for i in range(4):\n",
    "    X[i] = [x1[i],x2[i],b[i]]\n",
    "X = np.array(X)\n",
    "print(\"x1, x2, bias\")\n",
    "print(X)"
   ]
  },
  {
   "cell_type": "code",
   "execution_count": 4,
   "metadata": {},
   "outputs": [],
   "source": [
    "#implementing the weight formula \n",
    "#W(new)= W(old)+XiYi\n",
    "W[0] = Wi + (X[0]*y[0])\n",
    "i = 0\n",
    "while i<=2:\n",
    "    W[i+1] = W[i] + (X[i+1]*y[i+1])\n",
    "    i = i+1"
   ]
  },
  {
   "cell_type": "code",
   "execution_count": 5,
   "metadata": {},
   "outputs": [
    {
     "name": "stdout",
     "output_type": "stream",
     "text": [
      "[ 2  2 -2]\n"
     ]
    }
   ],
   "source": [
    "#Final weight and bias\n",
    "Wf = W[3]\n",
    "print(Wf)"
   ]
  },
  {
   "cell_type": "code",
   "execution_count": 6,
   "metadata": {},
   "outputs": [
    {
     "name": "stdout",
     "output_type": "stream",
     "text": [
      "Input: \n",
      " [[-1 -1  1  1]\n",
      " [-1  1 -1  1]] \n",
      "\n",
      "AND output: \n",
      " [0, 0, 0, 1] \n",
      "\n"
     ]
    }
   ],
   "source": [
    "#for AND gate using heb model\n",
    "def hebb_and(x1,x2):\n",
    "    w = 2\n",
    "    b = -2\n",
    "    #the threshold value is set to 1.5\n",
    "    theta = 0\n",
    "    #defining the net input\n",
    "    net_inp = x1*w + x2*w + b\n",
    "    #checking if the input crosses the threshold value\n",
    "    y = net_inp >= theta\n",
    "    #returning the answer\n",
    "    return (1*y)\n",
    "\n",
    "inp = np.matrix([[-1,-1,1,1],[-1,1,-1,1]])\n",
    "print(\"Input: \\n\",inp,\"\\n\")\n",
    "\n",
    "and_op = [hebb_and(-1,-1), hebb_and(-1,1), hebb_and(1,-1), hebb_and(1,1)]\n",
    "print(\"AND output: \\n\",and_op,\"\\n\")"
   ]
  },
  {
   "cell_type": "code",
   "execution_count": 7,
   "metadata": {},
   "outputs": [
    {
     "name": "stdout",
     "output_type": "stream",
     "text": [
      "Enter 1 or (0/-1) as input: 1\n",
      "Enter 1 or (0/-1) as input: -1\n"
     ]
    },
    {
     "data": {
      "text/plain": [
       "0"
      ]
     },
     "execution_count": 7,
     "metadata": {},
     "output_type": "execute_result"
    }
   ],
   "source": [
    "#user defined\n",
    "def hebb(x1,x2):\n",
    "    w = 2\n",
    "    b = -2\n",
    "    theta = 0\n",
    "    #defining the net input\n",
    "    net_inp = x1*w + x2*w + b\n",
    "    #checking if the input crosses the threshold value\n",
    "    y = net_inp >= theta\n",
    "    return (1*y)\n",
    "\n",
    "    \n",
    "def take_inp():\n",
    "    inp = float(input(\"Enter 1 or (0/-1) as input: \"))\n",
    "    return check_inp(inp)\n",
    "    \n",
    "def check_inp(x):\n",
    "    if(x != 0):\n",
    "        if (x != 1):\n",
    "            if(x != -1):\n",
    "                print(\"Enter a valid value!\")\n",
    "                take_inp()\n",
    "            elif(x == -1):\n",
    "                return(x)\n",
    "        elif (x == 1):\n",
    "            return(x)\n",
    "    elif(x == 0):\n",
    "        return(x-1)\n",
    "    \n",
    "    \n",
    "a = float(take_inp())\n",
    "b = float(take_inp())\n",
    "hebb(a,b)"
   ]
  },
  {
   "cell_type": "code",
   "execution_count": 5,
   "metadata": {},
   "outputs": [
    {
     "data": {
      "text/plain": [
       "Text(0.5, 1.0, 'Response region for AND gate')"
      ]
     },
     "execution_count": 5,
     "metadata": {},
     "output_type": "execute_result"
    },
    {
     "data": {
      "image/png": "[encoded data removed]",
      "text/plain": [
       "<Figure size 432x288 with 1 Axes>"
      ]
     },
     "metadata": {
      "needs_background": "light"
     },
     "output_type": "display_data"
    }
   ],
   "source": [
    "#defining the region AND gate \n",
    "x1 = [-0.5, 1]\n",
    "y1 = [1,-0.5]\n",
    "i1 = [0,0,1,1]\n",
    "i2 = [0,1,0,1]\n",
    "plt.xlim(-0.1, 1.6)\n",
    "plt.ylim(-0.1, 1.6)\n",
    "plt.plot(x1,y1)\n",
    "plt.scatter(i1[1:4], i2[1:4], s=100)\n",
    "plt.scatter(i1[0], i2[0], s=100, c='red')\n",
    "plt.title(\"Response region for AND gate\")"
   ]
  },
  {
   "cell_type": "code",
   "execution_count": null,
   "metadata": {},
   "outputs": [],
   "source": []
  }
 ],
 "metadata": {
  "kernelspec": {
   "display_name": "Python 3",
   "language": "python",
   "name": "python3"
  },
  "language_info": {
   "codemirror_mode": {
    "name": "ipython",
    "version": 3
   },
   "file_extension": ".py",
   "mimetype": "text/x-python",
   "name": "python",
   "nbconvert_exporter": "python",
   "pygments_lexer": "ipython3",
   "version": "3.8.5"
  }
 },
 "nbformat": 4,
 "nbformat_minor": 4
}
