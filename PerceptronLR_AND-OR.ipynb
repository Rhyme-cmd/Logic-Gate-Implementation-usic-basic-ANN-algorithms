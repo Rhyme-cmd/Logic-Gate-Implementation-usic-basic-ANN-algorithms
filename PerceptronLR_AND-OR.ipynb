{
 "cells": [
  {
   "cell_type": "code",
   "execution_count": 4,
   "metadata": {
    "id": "SqEdBpZgR1P7"
   },
   "outputs": [],
   "source": [
    "import numpy as np \n",
    "import matplotlib.pyplot as plt"
   ]
  },
  {
   "cell_type": "markdown",
   "metadata": {},
   "source": [
    "**AND** gate implementation using **Perceptron Learning Rule**"
   ]
  },
  {
   "cell_type": "code",
   "execution_count": 5,
   "metadata": {
    "id": "VTZJ78xDPaml"
   },
   "outputs": [
    {
     "name": "stdout",
     "output_type": "stream",
     "text": [
      "The obtained output is - [0, 0, 0, 0]\n",
      "The weights have been updated to -  [0.5, 0.5]\n",
      "The obtained output is - [0, 0, 0, 0]\n",
      "The weights have been updated to -  [1.0, 1.0]\n",
      "The obtained output is - [0, 0, 0, 1]\n",
      "Obtained output is the target output -  [0, 0, 0, 1]\n"
     ]
    }
   ],
   "source": [
    "#input table \n",
    "x1 = [0,1,0,1]\n",
    "x2 = [0,0,1,1]\n",
    "\n",
    "#target output \n",
    "t = [0,0,0,1]\n",
    "\n",
    "#weight matrix \n",
    "w = [0,0]\n",
    "\n",
    "#net input\n",
    "net_inp = [0,0,0,0]\n",
    "\n",
    "#obtained output  \n",
    "y = [0,0,0,0]\n",
    "\n",
    "#setting alpha to 1\n",
    "a = 0.5\n",
    "\n",
    "#setting bias to 0\n",
    "b = 0\n",
    "\n",
    "T_and = 1.5\n",
    "\n",
    "def perceptron_and(w):\n",
    "    for i in range(0,4):\n",
    "        net_inp[i] = b + x1[i]*w[0] + x2[i]*w[1]\n",
    "        if net_inp[i]>=T_and:\n",
    "            y[i] = 1\n",
    "        else:\n",
    "            y[i] = 0\n",
    "    print(\"The obtained output is -\",y)\n",
    "    check_inp(y)\n",
    "\n",
    "def check_inp(y):\n",
    "    if y == t: \n",
    "        print(\"Obtained output is the target output - \", y)\n",
    "    else: \n",
    "        for i in range(0,4):\n",
    "            if y[i]!=t[i]:\n",
    "                w[0] = w[0] + a*(t[i])\n",
    "                w[1] = w[1] + a*(t[i])\n",
    "        print(\"The weights have been updated to - \", w)\n",
    "        perceptron_and(w)\n",
    "        \n",
    "perceptron_and(w)"
   ]
  },
  {
   "cell_type": "code",
   "execution_count": 6,
   "metadata": {
    "id": "1jMejNlSPa9h"
   },
   "outputs": [
    {
     "data": {
      "text/plain": [
       "Text(0.5, 1.0, 'Response region for AND gate')"
      ]
     },
     "execution_count": 6,
     "metadata": {},
     "output_type": "execute_result"
    },
    {
     "data": {
      "image/png": "[encoded data removed]",
      "text/plain": [
       "<Figure size 432x288 with 1 Axes>"
      ]
     },
     "metadata": {
      "needs_background": "light"
     },
     "output_type": "display_data"
    }
   ],
   "source": [
    "#defining the region AND gate \n",
    "x1 = [-0.5, 1]\n",
    "y1 = [1,-0.5]\n",
    "i1 = [0,0,1,1]\n",
    "i2 = [0,1,0,1]\n",
    "plt.xlim(-0.1, 1.6)\n",
    "plt.ylim(-0.1, 1.6)\n",
    "plt.plot(x1,y1)\n",
    "plt.scatter(i1[1:4], i2[1:4], s=100)\n",
    "plt.scatter(i1[0], i2[0], s=100, c='red')\n",
    "plt.title(\"Response region for AND gate\")"
   ]
  },
  {
   "cell_type": "markdown",
   "metadata": {},
   "source": [
    "**OR** gate implementation using **Perceptron Learning Rule**"
   ]
  },
  {
   "cell_type": "code",
   "execution_count": 7,
   "metadata": {},
   "outputs": [
    {
     "name": "stdout",
     "output_type": "stream",
     "text": [
      "The obtained output is - [0, 0, 0, 0]\n",
      "The current weights are -  [0, 0]\n",
      "The weights have been updated to -  [0.30000000000000004, 0.30000000000000004]\n",
      "The obtained output is - [0, 0, 0, 1]\n",
      "The current weights are -  [0.30000000000000004, 0.30000000000000004]\n",
      "The weights have been updated to -  [0.5, 0.5]\n",
      "The obtained output is - [0, 1, 1, 1]\n",
      "The current weights are -  [0.5, 0.5]\n",
      "Obtained output is the target output -  [0, 1, 1, 1]\n"
     ]
    }
   ],
   "source": [
    "#input table \n",
    "x1 = [0,1,0,1]\n",
    "x2 = [0,0,1,1]\n",
    "\n",
    "#target output \n",
    "t = [0,1,1,1]\n",
    "\n",
    "#weight matrix \n",
    "w = [0,0]\n",
    "\n",
    "#net input\n",
    "net_inp = [0,0,0,0]\n",
    "\n",
    "#obtained output  \n",
    "y = [0,0,0,0]\n",
    "\n",
    "#setting alpha to 1\n",
    "a = 0.1\n",
    "\n",
    "#setting bias to 0\n",
    "b = 0\n",
    "\n",
    "T_or = 0.5\n",
    "\n",
    "def perceptron_or(w):\n",
    "    for i in range(0,4):\n",
    "        net_inp[i] = b + x1[i]*w[0] + x2[i]*w[1]\n",
    "        if net_inp[i]>=T_or:\n",
    "            y[i] = 1\n",
    "        else:\n",
    "            y[i] = 0\n",
    "    print(\"The obtained output is -\",y)\n",
    "    print(\"The current weights are - \",w)\n",
    "    check_inp(y)\n",
    "\n",
    "def check_inp(y):\n",
    "    if y == t: \n",
    "        print(\"Obtained output is the target output - \", y)\n",
    "    else: \n",
    "        for i in range(0,4):\n",
    "            if y[i]!=t[i]:\n",
    "                w[0] = w[0] + a*(t[i])\n",
    "                w[1] = w[1] + a*(t[i])\n",
    "        print(\"The weights have been updated to - \", w)\n",
    "        perceptron_or(w)\n",
    "        \n",
    "perceptron_or(w)"
   ]
  },
  {
   "cell_type": "code",
   "execution_count": 8,
   "metadata": {},
   "outputs": [
    {
     "data": {
      "text/plain": [
       "Text(0.5, 1.0, 'Response region for OR gate')"
      ]
     },
     "execution_count": 8,
     "metadata": {},
     "output_type": "execute_result"
    },
    {
     "data": {
      "image/png": "[encoded data removed]",
      "text/plain": [
       "<Figure size 432x288 with 1 Axes>"
      ]
     },
     "metadata": {
      "needs_background": "light"
     },
     "output_type": "display_data"
    }
   ],
   "source": [
    "#defining the region OR gate \n",
    "x1 = [-0.5, 1.6]\n",
    "y1 = [1.6,-0.5]\n",
    "i1 = [0,0,1,1]\n",
    "i2 = [0,1,0,1]\n",
    "plt.xlim(-0.1, 1.6)\n",
    "plt.ylim(-0.1, 1.6)\n",
    "plt.plot(x1,y1)\n",
    "plt.scatter(i1[0:3], i2[0:3], s=100)\n",
    "plt.scatter(i1[3], i2[3], s=100, c='red')\n",
    "plt.title(\"Response region for OR gate\")"
   ]
  }
 ],
 "metadata": {
  "colab": {
   "name": "ANN4.ipynb",
   "provenance": []
  },
  "kernelspec": {
   "display_name": "Python 3",
   "language": "python",
   "name": "python3"
  },
  "language_info": {
   "codemirror_mode": {
    "name": "ipython",
    "version": 3
   },
   "file_extension": ".py",
   "mimetype": "text/x-python",
   "name": "python",
   "nbconvert_exporter": "python",
   "pygments_lexer": "ipython3",
   "version": "3.8.5"
  }
 },
 "nbformat": 4,
 "nbformat_minor": 1
}
