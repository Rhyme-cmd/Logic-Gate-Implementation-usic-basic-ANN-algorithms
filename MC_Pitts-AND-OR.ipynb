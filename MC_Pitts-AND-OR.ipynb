{
 "cells": [
  {
   "cell_type": "code",
   "execution_count": 4,
   "metadata": {},
   "outputs": [],
   "source": [
    "import numpy as np \n",
    "import matplotlib.pyplot as plt"
   ]
  },
  {
   "cell_type": "code",
   "execution_count": 5,
   "metadata": {},
   "outputs": [
    {
     "data": {
      "text/plain": [
       "1"
      ]
     },
     "execution_count": 5,
     "metadata": {},
     "output_type": "execute_result"
    }
   ],
   "source": [
    "#for AND gate using MC Pitts model\n",
    "def mpc_and(x1,x2):\n",
    "    w = 1\n",
    "    #the threshold value is set to 1.5\n",
    "    theta = 1.5\n",
    "    #defining the net input\n",
    "    net_inp = x1*w + x2*w \n",
    "    #checking if the input crosses the threshold value\n",
    "    y = net_inp >= theta\n",
    "    #returning the answer\n",
    "    return (1*y)\n",
    "\n",
    "mpc_and(1,1)"
   ]
  },
  {
   "cell_type": "code",
   "execution_count": 6,
   "metadata": {},
   "outputs": [
    {
     "data": {
      "text/plain": [
       "1"
      ]
     },
     "execution_count": 6,
     "metadata": {},
     "output_type": "execute_result"
    }
   ],
   "source": [
    "#for OR gate using MC Pitts model\n",
    "def mpc_or(x1,x2):\n",
    "    w = 1\n",
    "    #the threshold value is set to 0.5\n",
    "    theta = 0.5\n",
    "    #defining the net input\n",
    "    net_inp = x1*w + x2*w \n",
    "    #checking if the input crosses the threshold value\n",
    "    y = net_inp >= theta\n",
    "    return (1*y)\n",
    "\n",
    "#checking the output\n",
    "mpc_or(0,1)"
   ]
  },
  {
   "cell_type": "code",
   "execution_count": 7,
   "metadata": {},
   "outputs": [
    {
     "name": "stdout",
     "output_type": "stream",
     "text": [
      "Input: \n",
      " [[0 1 0 1]\n",
      " [0 0 1 1]] \n",
      "\n",
      "AND output: \n",
      " [0, 0, 0, 1] \n",
      "\n",
      "OR output: \n",
      " [0, 1, 1, 1] \n",
      "\n"
     ]
    }
   ],
   "source": [
    "inp = np.matrix([[0,1,0,1],[0,0,1,1]])\n",
    "print(\"Input: \\n\",inp,\"\\n\")\n",
    "\n",
    "and_op = [mpc_and(0,0), mpc_and(0,1), mpc_and(1,0), mpc_and(1,1)]\n",
    "print(\"AND output: \\n\",and_op,\"\\n\")\n",
    "\n",
    "or_op = [mpc_or(0,0), mpc_or(0,1), mpc_or(1,0), mpc_or(1,1)]\n",
    "print(\"OR output: \\n\",or_op,\"\\n\")"
   ]
  },
  {
   "cell_type": "code",
   "execution_count": 10,
   "metadata": {},
   "outputs": [
    {
     "name": "stdout",
     "output_type": "stream",
     "text": [
      "Enter 1.5 for AND and 0.5 for OR: 0.5\n",
      "Enter 1 or 0 as input: 0\n",
      "Enter 1 or 0 as input: 1\n"
     ]
    },
    {
     "data": {
      "text/plain": [
       "1"
      ]
     },
     "execution_count": 10,
     "metadata": {},
     "output_type": "execute_result"
    }
   ],
   "source": [
    "#user defined\n",
    "def mpc(x1,x2,theta):\n",
    "    w = 1\n",
    "    #the threshold value is set by the user\n",
    "    #defining the net input\n",
    "    net_inp = x1*w + x2*w \n",
    "    #checking if the input crosses the threshold value\n",
    "    y = net_inp >= theta\n",
    "    return (1*y)\n",
    "\n",
    "def take_inp_theta():\n",
    "    inp = float(input(\"Enter 1.5 for AND and 0.5 for OR: \"))\n",
    "    return check_inp_theta(inp)\n",
    "    \n",
    "def check_inp_theta(x):\n",
    "    if(x != 0.5):\n",
    "        if (x != 1.5):\n",
    "            print(\"Enter a valid value!\")\n",
    "            take_inp_theta()\n",
    "        elif (x == 1.5):\n",
    "            return(x)\n",
    "    elif(x == 0.5):\n",
    "        return(x)\n",
    "    \n",
    "def take_inp():\n",
    "    inp = float(input(\"Enter 1 or 0 as input: \"))\n",
    "    return check_inp(inp)\n",
    "    \n",
    "def check_inp(x):\n",
    "    if(x != 0):\n",
    "        if (x != 1):\n",
    "            print(\"Enter a valid value!\")\n",
    "            take_inp()\n",
    "        elif (x == 1):\n",
    "            return(x)\n",
    "    elif(x == 0):\n",
    "        return(x)\n",
    "    \n",
    "    \n",
    "c = take_inp_theta()\n",
    "a = float(take_inp())\n",
    "b = float(take_inp())\n",
    "mpc(a,b,c)"
   ]
  },
  {
   "cell_type": "code",
   "execution_count": 11,
   "metadata": {},
   "outputs": [
    {
     "data": {
      "text/plain": [
       "Text(0.5, 1.0, 'Response region for AND gate')"
      ]
     },
     "execution_count": 11,
     "metadata": {},
     "output_type": "execute_result"
    },
    {
     "data": {
      "image/png": "[encoded data removed]",
      "text/plain": [
       "<Figure size 432x288 with 1 Axes>"
      ]
     },
     "metadata": {
      "needs_background": "light"
     },
     "output_type": "display_data"
    }
   ],
   "source": [
    "#defining the region AND gate \n",
    "x1 = [0, 0.75, 1.5]\n",
    "y1 = [1.5, 0.75, 0]\n",
    "i1 = [0,0,1,1]\n",
    "i2 = [0,1,0,1]\n",
    "plt.xlim(-0.1, 1.6)\n",
    "plt.ylim(-0.1, 1.6)\n",
    "plt.plot(x1,y1)\n",
    "plt.scatter(i1[0:3], i2[0:3], s=100)\n",
    "plt.scatter(i1[3], i2[3], s=100, c='red')\n",
    "plt.title(\"Response region for AND gate\")"
   ]
  },
  {
   "cell_type": "code",
   "execution_count": 14,
   "metadata": {},
   "outputs": [
    {
     "data": {
      "text/plain": [
       "Text(0.5, 1.0, 'Response region for OR gate')"
      ]
     },
     "execution_count": 14,
     "metadata": {},
     "output_type": "execute_result"
    },
    {
     "data": {
      "image/png": "[encoded data removed]",
      "text/plain": [
       "<Figure size 432x288 with 1 Axes>"
      ]
     },
     "metadata": {
      "needs_background": "light"
     },
     "output_type": "display_data"
    }
   ],
   "source": [
    "#defining the region OR gate \n",
    "x1 = [-0.5, 0.25, 1]\n",
    "y1 = [1, 0.25, -0.5]\n",
    "i1 = [0,0,1,1]\n",
    "i2 = [0,1,0,1]\n",
    "plt.xlim(-0.1, 1.6)\n",
    "plt.ylim(-0.1, 1.6)\n",
    "plt.plot(x1,y1)\n",
    "plt.scatter(i1[1:4], i2[1:4], s=100)\n",
    "plt.scatter(i1[0], i2[0], s=100, c='red')\n",
    "plt.title(\"Response region for OR gate\")"
   ]
  },
  {
   "cell_type": "code",
   "execution_count": null,
   "metadata": {},
   "outputs": [],
   "source": []
  }
 ],
 "metadata": {
  "kernelspec": {
   "display_name": "Python 3",
   "language": "python",
   "name": "python3"
  },
  "language_info": {
   "codemirror_mode": {
    "name": "ipython",
    "version": 3
   },
   "file_extension": ".py",
   "mimetype": "text/x-python",
   "name": "python",
   "nbconvert_exporter": "python",
   "pygments_lexer": "ipython3",
   "version": "3.8.5"
  }
 },
 "nbformat": 4,
 "nbformat_minor": 4
}
